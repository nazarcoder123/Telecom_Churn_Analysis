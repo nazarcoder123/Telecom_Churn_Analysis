{
  "nbformat": 4,
  "nbformat_minor": 0,
  "metadata": {
    "colab": {
      "private_outputs": true,
      "provenance": [],
      "collapsed_sections": [
        "vncDsAP0Gaoa",
        "FJNUwmbgGyua",
        "w6K7xa23Elo4",
        "yQaldy8SH6Dl",
        "PH-0ReGfmX4f",
        "mDgbUHAGgjLW",
        "O_i_v8NEhb9l",
        "HhfV-JJviCcP",
        "Y3lxredqlCYt",
        "3RnN4peoiCZX",
        "x71ZqKXriCWQ",
        "7hBIi_osiCS2",
        "JlHwYmJAmNHm",
        "35m5QtbWiB9F",
        "PoPl-ycgm1ru",
        "H0kj-8xxnORC",
        "nA9Y7ga8ng1Z",
        "PBTbrJXOngz2",
        "u3PMJOP6ngxN",
        "dauF4eBmngu3",
        "bKJF3rekwFvQ",
        "MSa1f5Uengrz",
        "GF8Ens_Soomf",
        "0wOQAZs5pc--",
        "K5QZ13OEpz2H",
        "lQ7QKXXCp7Bj",
        "448CDAPjqfQr",
        "KSlN3yHqYklG",
        "t6dVpIINYklI",
        "ijmpgYnKYklI",
        "-JiQyfWJYklI",
        "EM7whBJCYoAo",
        "fge-S5ZAYoAp",
        "85gYPyotYoAp",
        "RoGjAbkUYoAp",
        "4Of9eVA-YrdM",
        "iky9q4vBYrdO",
        "F6T5p64dYrdO",
        "y-Ehk30pYrdP",
        "bamQiAODYuh1",
        "QHF8YVU7Yuh3",
        "GwzvFGzlYuh3",
        "qYpmQ266Yuh3",
        "OH-pJp9IphqM",
        "bbFf2-_FphqN",
        "_ouA3fa0phqN",
        "Seke61FWphqN",
        "PIIx-8_IphqN",
        "t27r6nlMphqO",
        "r2jJGEOYphqO",
        "b0JNsNcRphqO",
        "BZR9WyysphqO",
        "jj7wYXLtphqO",
        "eZrbJ2SmphqO",
        "rFu4xreNphqO",
        "YJ55k-q6phqO",
        "gCFgpxoyphqP",
        "OVtJsKN_phqQ",
        "lssrdh5qphqQ",
        "U2RJ9gkRphqQ",
        "1M8mcRywphqQ",
        "tgIPom80phqQ",
        "JMzcOPDDphqR",
        "x-EpHcCOp1ci",
        "X_VqEhTip1ck",
        "8zGJKyg5p1ck",
        "PVzmfK_Ep1ck",
        "n3dbpmDWp1ck",
        "ylSl6qgtp1ck",
        "ZWILFDl5p1ck",
        "M7G43BXep1ck",
        "Ag9LCva-p1cl",
        "E6MkPsBcp1cl",
        "2cELzS2fp1cl",
        "3MPXvC8up1cl",
        "NC_X3p0fY2L0",
        "UV0SzAkaZNRQ",
        "YPEH6qLeZNRQ",
        "q29F0dvdveiT",
        "EXh0U9oCveiU",
        "22aHeOlLveiV",
        "JcMwzZxoAimU",
        "8G2x9gOozGDZ",
        "gCX9965dhzqZ",
        "gIfDvo9L0UH2"
      ],
      "include_colab_link": true
    },
    "kernelspec": {
      "name": "python3",
      "display_name": "Python 3"
    },
    "language_info": {
      "name": "python"
    }
  },
  "cells": [
    {
      "cell_type": "markdown",
      "metadata": {
        "id": "view-in-github",
        "colab_type": "text"
      },
      "source": [
        "<a href=\"https://colab.research.google.com/github/nazarcoder123/Telecom_Churn_Analysis/blob/main/Sample_EDA_Submission_Template.ipynb\" target=\"_parent\"><img src=\"https://colab.research.google.com/assets/colab-badge.svg\" alt=\"Open In Colab\"/></a>"
      ]
    },
    {
      "cell_type": "markdown",
      "source": [
        "# **Project Name**    - \n",
        "\n"
      ],
      "metadata": {
        "id": "vncDsAP0Gaoa"
      }
    },
    {
      "cell_type": "markdown",
      "source": [
        "##### **Project Type**    - EDA(Telecom Churn Analysis)\n",
        "##### **Contribution**    - Individual"
      ],
      "metadata": {
        "id": "beRrZCGUAJYm"
      }
    },
    {
      "cell_type": "markdown",
      "source": [
        "# **Project Summary -**"
      ],
      "metadata": {
        "id": "FJNUwmbgGyua"
      }
    },
    {
      "cell_type": "markdown",
      "source": [
        "Customer churn in the telecom sector is a significant challenge that telecom companies face, as it directly impacts their revenue and profitability. Churn refers to customers discontinuing or terminating their services. Understanding the factors influencing churn and implementing effective strategies to mitigate it is crucial for telecom companies.\n",
        "\n",
        "To address churn, telecom companies employ data-driven techniques such as Exploratory Data Analysis (EDA), customer segmentation, and predictive modeling. By leveraging machine learning algorithms, they build churn prediction models that identify customers at high risk of churn. This enables proactive intervention and targeted retention strategies to retain at-risk customers.\n"
      ],
      "metadata": {
        "id": "F6v_1wHtG2nS"
      }
    },
    {
      "cell_type": "markdown",
      "source": [
        "# **GitHub Link -**"
      ],
      "metadata": {
        "id": "w6K7xa23Elo4"
      }
    },
    {
      "cell_type": "markdown",
      "source": [
        "Provide your GitHub Link here.\n",
        "\n",
        "https://github.com/nazarcoder123/Telecom_Churn_Analysis "
      ],
      "metadata": {
        "id": "h1o69JH3Eqqn"
      }
    },
    {
      "cell_type": "markdown",
      "source": [
        "# **Problem Statement**\n"
      ],
      "metadata": {
        "id": "yQaldy8SH6Dl"
      }
    },
    {
      "cell_type": "markdown",
      "source": [
        "**Write Problem Statement Here.**\n",
        "\n",
        "The problem at hand is to analyze customer churn in the telecom sector and develop effective strategies to mitigate it. Customer churn, defined as the discontinuation or termination of telecom services by customers, poses a significant challenge for telecom companies as it directly impacts their revenue and profitability.\n",
        "\n",
        "The objective is to understand the factors influencing customer churn and identify patterns or indicators that can help predict and prevent churn. By analyzing historical customer data, including demographics, usage patterns, complaints, and service interactions, the goal is to uncover key drivers of churn and gain insights into customer behavior.\n",
        "\n",
        "The problem statement also encompasses the need to explore and implement customer retention strategies, including enhancing service quality, improving customer experiences, offering competitive pricing plans, providing value-added services, and implementing effective customer relationship management (CRM) systems. The goal is to address the root causes of churn, improve customer satisfaction, and establish strong relationships with customers.\n",
        "\n",
        "Ultimately, the objective is to develop a comprehensive understanding of customer churn in the telecom sector and devise strategies that enable telecom companies to retain customers, minimize churn rates, and achieve sustainable business growth in a highly competitive market."
      ],
      "metadata": {
        "id": "DpeJGUA3kjGy"
      }
    },
    {
      "cell_type": "markdown",
      "source": [
        "#### **Define Your Business Objective?**"
      ],
      "metadata": {
        "id": "PH-0ReGfmX4f"
      }
    },
    {
      "cell_type": "markdown",
      "source": [
        "Answer Here.\n",
        "\n",
        "The business objective for the telecom company is to reduce customer churn. Customer churn refers to the rate at which customers discontinue their services or switch to a competitor. The objective is to retain existing customers and minimize the number of customers who cancel their subscriptions or switch to other telecom providers. This objective is important because retaining customers is more cost-effective than acquiring new ones, and it contributes to the company's revenue stability and long-term growth. By reducing churn, the company can improve customer satisfaction, increase customer loyalty, and ultimately achieve higher profitability."
      ],
      "metadata": {
        "id": "PhDvGCAqmjP1"
      }
    },
    {
      "cell_type": "markdown",
      "source": [
        "# **General Guidelines** : -  "
      ],
      "metadata": {
        "id": "mDgbUHAGgjLW"
      }
    },
    {
      "cell_type": "markdown",
      "source": [
        "1.   Well-structured, formatted, and commented code is required. \n",
        "2.   Exception Handling, Production Grade Code & Deployment Ready Code will be a plus. Those students will be awarded some additional credits. \n",
        "     \n",
        "     The additional credits will have advantages over other students during Star Student selection.\n",
        "       \n",
        "             [ Note: - Deployment Ready Code is defined as, the whole .ipynb notebook should be executable in one go\n",
        "                       without a single error logged. ]\n",
        "\n",
        "3.   Each and every logic should have proper comments.\n",
        "4. You may add as many number of charts you want. Make Sure for each and every chart the following format should be answered.\n",
        "        \n",
        "\n",
        "```\n",
        "# Chart visualization code\n",
        "```\n",
        "            \n",
        "\n",
        "*   Why did you pick the specific chart?\n",
        "*   What is/are the insight(s) found from the chart?\n",
        "* Will the gained insights help creating a positive business impact? \n",
        "Are there any insights that lead to negative growth? Justify with specific reason.\n",
        "\n",
        "5. You have to create at least 20 logical & meaningful charts having important insights.\n",
        "\n",
        "\n",
        "[ Hints : - Do the Vizualization in  a structured way while following \"UBM\" Rule. \n",
        "\n",
        "U - Univariate Analysis,\n",
        "\n",
        "B - Bivariate Analysis (Numerical - Categorical, Numerical - Numerical, Categorical - Categorical)\n",
        "\n",
        "M - Multivariate Analysis\n",
        " ]\n",
        "\n",
        "\n",
        "\n"
      ],
      "metadata": {
        "id": "ZrxVaUj-hHfC"
      }
    },
    {
      "cell_type": "markdown",
      "source": [
        "# ***Let's Begin !***"
      ],
      "metadata": {
        "id": "O_i_v8NEhb9l"
      }
    },
    {
      "cell_type": "markdown",
      "source": [
        "## ***1. Know Your Data***"
      ],
      "metadata": {
        "id": "HhfV-JJviCcP"
      }
    },
    {
      "cell_type": "markdown",
      "source": [
        "### Import Libraries"
      ],
      "metadata": {
        "id": "Y3lxredqlCYt"
      }
    },
    {
      "cell_type": "code",
      "source": [
        "# Import Libraries\n",
        "import numpy as np\n",
        "import pandas as pd\n",
        "import matplotlib.pyplot as plt\n",
        "import seaborn as sns"
      ],
      "metadata": {
        "id": "M8Vqi-pPk-HR"
      },
      "execution_count": null,
      "outputs": []
    },
    {
      "cell_type": "markdown",
      "source": [
        "### Dataset Loading"
      ],
      "metadata": {
        "id": "3RnN4peoiCZX"
      }
    },
    {
      "cell_type": "code",
      "source": [
        "# Load Dataset\n",
        "df = pd.read_csv(\"/content/Telecom Churn.csv\")"
      ],
      "metadata": {
        "id": "4CkvbW_SlZ_R"
      },
      "execution_count": null,
      "outputs": []
    },
    {
      "cell_type": "markdown",
      "source": [
        "### Dataset First View"
      ],
      "metadata": {
        "id": "x71ZqKXriCWQ"
      }
    },
    {
      "cell_type": "code",
      "source": [
        "# Dataset First Look\n",
        "df.head()"
      ],
      "metadata": {
        "id": "LWNFOSvLl09H"
      },
      "execution_count": null,
      "outputs": []
    },
    {
      "cell_type": "markdown",
      "source": [
        "### Dataset Rows & Columns count"
      ],
      "metadata": {
        "id": "7hBIi_osiCS2"
      }
    },
    {
      "cell_type": "code",
      "source": [
        "# Dataset Rows & Columns count\n",
        "df.shape"
      ],
      "metadata": {
        "id": "Kllu7SJgmLij"
      },
      "execution_count": null,
      "outputs": []
    },
    {
      "cell_type": "markdown",
      "source": [
        "### Dataset Information"
      ],
      "metadata": {
        "id": "JlHwYmJAmNHm"
      }
    },
    {
      "cell_type": "code",
      "source": [
        "# Dataset Info\n",
        "df.info()"
      ],
      "metadata": {
        "id": "e9hRXRi6meOf"
      },
      "execution_count": null,
      "outputs": []
    },
    {
      "cell_type": "markdown",
      "source": [
        "#### Duplicate Values"
      ],
      "metadata": {
        "id": "35m5QtbWiB9F"
      }
    },
    {
      "cell_type": "code",
      "source": [
        "# Dataset Duplicate Value Count\n",
        "df.duplicated().value_counts()"
      ],
      "metadata": {
        "id": "1sLdpKYkmox0"
      },
      "execution_count": null,
      "outputs": []
    },
    {
      "cell_type": "markdown",
      "source": [
        "#### Missing Values/Null Values"
      ],
      "metadata": {
        "id": "PoPl-ycgm1ru"
      }
    },
    {
      "cell_type": "code",
      "source": [
        "# Missing Values/Null Values Count\n",
        "df.isnull().sum()"
      ],
      "metadata": {
        "id": "GgHWkxvamxVg"
      },
      "execution_count": null,
      "outputs": []
    },
    {
      "cell_type": "code",
      "source": [
        "# Visualizing the missing values\n",
        "df[df.isnull()].sum()"
      ],
      "metadata": {
        "id": "3q5wnI3om9sJ"
      },
      "execution_count": null,
      "outputs": []
    },
    {
      "cell_type": "markdown",
      "source": [
        "### What did you know about your dataset?"
      ],
      "metadata": {
        "id": "H0kj-8xxnORC"
      }
    },
    {
      "cell_type": "markdown",
      "source": [
        "Answer Here\n",
        "\n",
        "\n",
        "The data set consist of 3333 rows and 20 columns\n",
        "Duplicate Values: There are no duplicated rows in the dataset as all the rows are unique.\n",
        "Missing Values: The dataset does not contain any missing values or null values. The \"Missing Values/Null Values Count\" is shown as 0.\n",
        "\n",
        "Column Names: The dataset has the following columns in the given order:\n",
        "\n",
        "1.'State': The state of the customer.\n",
        "\n",
        "2.'Account length': The duration of the customer's account.\n",
        "\n",
        "3.'Area code': The area code of the customer's phone number.\n",
        "\n",
        "4.'International plan': Whether the customer has an international calling plan \n",
        "   (Yes/No).\n",
        "\n",
        "5.'Voice mail plan': Whether the customer has a voice mail plan (Yes/No).\n",
        "\n",
        "6.'Number vmail messages': The number of voice mail messages the customer has.\n",
        "\n",
        "7.'Total day minutes': The total duration of daytime calls for the customer.\n",
        "\n",
        "8.'Total day calls': The total number of daytime calls made by the customer.\n",
        "\n",
        "9.'Total day charge': The total charge for daytime calls for the customer.\n",
        "\n",
        "10.'Total eve minutes': The total duration of evening calls for the customer.\n",
        "\n",
        "11.'Total eve calls': The total number of evening calls made by the customer.\n",
        "\n",
        "12.'Total eve charge': The total charge for evening calls for the customer.\n",
        "\n",
        "13.'Total night minutes': The total duration of nighttime calls for the \n",
        "   customer.\n",
        "\n",
        "14.'Total night calls': The total number of nighttime calls made by the \n",
        "  customer.\n",
        "\n",
        "15.'Total night charge': The total charge for nighttime calls for the customer.\n",
        "\n",
        "16.'Total intl minutes': The total duration of international calls for the \n",
        "   customer.\n",
        "\n",
        "17.'Total intl calls': The total number of international calls made by the \n",
        "   customer.\n",
        "\n",
        "18.'Total intl charge': The total charge for international calls for the \n",
        "  customer.\n",
        "\n",
        "19.'Customer service calls': The number of customer service calls made by the \n",
        "   customer.\n",
        "\n",
        "20.'Churn': A boolean value indicating whether the customer churned or not \n",
        "  (True/False)."
      ],
      "metadata": {
        "id": "gfoNAAC-nUe_"
      }
    },
    {
      "cell_type": "markdown",
      "source": [
        "## ***2. Understanding Your Variables***"
      ],
      "metadata": {
        "id": "nA9Y7ga8ng1Z"
      }
    },
    {
      "cell_type": "code",
      "source": [
        "# Dataset Columns\n",
        "columns = df.columns.tolist()\n",
        "columns"
      ],
      "metadata": {
        "id": "j7xfkqrt5Ag5"
      },
      "execution_count": null,
      "outputs": []
    },
    {
      "cell_type": "code",
      "source": [
        "# Dataset Describe\n",
        "df.describe()"
      ],
      "metadata": {
        "id": "DnOaZdaE5Q5t"
      },
      "execution_count": null,
      "outputs": []
    },
    {
      "cell_type": "markdown",
      "source": [
        "### Variables Description "
      ],
      "metadata": {
        "id": "PBTbrJXOngz2"
      }
    },
    {
      "cell_type": "markdown",
      "source": [
        "Answer Here\n",
        "\n",
        "'Account length': This variable represents the duration of the customer's account in the telecom company. It is a numeric variable.\n",
        "\n",
        "'Area code': This variable represents the area code associated with the customer's phone number. It is a categorical variable.\n",
        "\n",
        "'Number vmail messages': This variable represents the number of voice mail messages received by the customer. It is a numeric variable.\n",
        "\n",
        "'Total day minutes': This variable represents the total duration of daytime calls made by the customer. It is a numeric variable.\n",
        "\n",
        "'Total day calls': This variable represents the total number of daytime calls made by the customer. It is a numeric variable.\n",
        "\n",
        "'Total day charge': This variable represents the total charge for daytime calls made by the customer. It is a numeric variable.\n",
        "\n",
        "'Total eve minutes': This variable represents the total duration of evening calls made by the customer. It is a numeric variable.\n",
        "\n",
        "'Total eve calls': This variable represents the total number of evening calls made by the customer. It is a numeric variable.\n",
        "\n",
        "'Total eve charge': This variable represents the total charge for evening calls made by the customer. It is a numeric variable.\n",
        "\n",
        "'Total night minutes': This variable represents the total duration of nighttime calls made by the customer. It is a numeric variable.\n",
        "\n",
        "'Total night calls': This variable represents the total number of nighttime calls made by the customer. It is a numeric variable.\n",
        "\n",
        "'Total night charge': This variable represents the total charge for nighttime calls made by the customer. It is a numeric variable.\n",
        "\n",
        "'Total intl minutes': This variable represents the total duration of international calls made by the customer. It is a numeric variable.\n",
        "\n",
        "'Total intl calls': This variable represents the total number of international calls made by the customer. It is a numeric variable.\n",
        "\n",
        "'Total intl charge': This variable represents the total charge for international calls made by the customer. It is a numeric variable.\n",
        "\n",
        "'Customer service calls': This variable represents the number of customer service calls made by the customer. It is a numeric variable.\n",
        "\n",
        "The df.describe() output provides descriptive statistics for the numeric variables in your dataset, including the count, mean, standard deviation, minimum, 25th percentile, 50th percentile (median), and 75th percentile. It gives you an overview of the central tendency, dispersion, and range of the numeric variables in your dataset."
      ],
      "metadata": {
        "id": "aJV4KIxSnxay"
      }
    },
    {
      "cell_type": "markdown",
      "source": [
        "### Check Unique Values for each variable."
      ],
      "metadata": {
        "id": "u3PMJOP6ngxN"
      }
    },
    {
      "cell_type": "code",
      "source": [
        "# Check Unique Values for each variable.\n",
        "for column in df.columns:\n",
        "    unique_values = df[column].unique()\n",
        "    print(f\"Unique values in '{column}': {unique_values}\")"
      ],
      "metadata": {
        "id": "zms12Yq5n-jE"
      },
      "execution_count": null,
      "outputs": []
    },
    {
      "cell_type": "markdown",
      "source": [
        "## 3. ***Data Wrangling***"
      ],
      "metadata": {
        "id": "dauF4eBmngu3"
      }
    },
    {
      "cell_type": "markdown",
      "source": [
        "### Data Wrangling Code"
      ],
      "metadata": {
        "id": "bKJF3rekwFvQ"
      }
    },
    {
      "cell_type": "code",
      "source": [
        "# Write your code to make your dataset analysis ready.\n",
        "missing_values = df.isnull().sum()\n",
        "print(\"Missing Values:\\n\", missing_values)\n",
        "\n",
        "# Check for duplicate rows\n",
        "duplicate_rows = df.duplicated().sum()\n",
        "print(\"Duplicate Rows:\", duplicate_rows)\n",
        "\n",
        "# In this we are counts individual state How many times they are present in a data\n",
        "df[\"State\"].value_counts()\n",
        "\n",
        "# Group the data by state and calculate churn rate\n",
        "state_churn_rate = df.groupby('State')['Churn'].mean().sort_values(ascending=False)\n",
        "print(state_churn_rate)"
      ],
      "metadata": {
        "id": "wk-9a2fpoLcV"
      },
      "execution_count": null,
      "outputs": []
    },
    {
      "cell_type": "markdown",
      "source": [
        "### What all manipulations have you done and insights you found?"
      ],
      "metadata": {
        "id": "MSa1f5Uengrz"
      }
    },
    {
      "cell_type": "markdown",
      "source": [
        "Answer Here.\n",
        "\n",
        "Checking for missing values: The code df.isnull().sum() calculates the number of missing values in each column. This helps identify if there are any columns with missing data.\n",
        "\n",
        "Checking for duplicate rows: The code df.duplicated().sum() counts the number of duplicate rows in the dataset. This helps identify if there are any duplicate records present.\n",
        "\n",
        "Counting occurrences of each state: The code df[\"State\"].value_counts() counts the number of occurrences of each state in the dataset. This provides insights into the distribution of customers across different states.\n",
        "\n",
        "Calculating churn rate by state: The code df.groupby('State')['Churn'].mean().sort_values(ascending=False) groups the data by state and calculates the average churn rate for each state. The results are sorted in descending order. This analysis helps identify states with higher churn rates, indicating potential areas of concern for the telecom company."
      ],
      "metadata": {
        "id": "LbyXE7I1olp8"
      }
    },
    {
      "cell_type": "markdown",
      "source": [
        "## ***4. Data Vizualization, Storytelling & Experimenting with charts : Understand the relationships between variables***"
      ],
      "metadata": {
        "id": "GF8Ens_Soomf"
      }
    },
    {
      "cell_type": "markdown",
      "source": [
        "#### Chart - 1"
      ],
      "metadata": {
        "id": "0wOQAZs5pc--"
      }
    },
    {
      "cell_type": "code",
      "source": [
        "# Chart - 1 visualization code\n",
        "\n",
        "# Group the data by state and calculate churn rate\n",
        "state_churn_rate = df.groupby('State')['Churn'].mean().sort_values(ascending=False)\n",
        "\n",
        "# Plotting the bar chart\n",
        "plt.figure(figsize=(12, 6))\n",
        "state_churn_rate.plot(kind='bar')\n",
        "plt.xlabel('State')\n",
        "plt.ylabel('Churn Rate')\n",
        "plt.title('Churn Rate by State')\n",
        "plt.xticks(rotation=90)\n",
        "plt.show()"
      ],
      "metadata": {
        "id": "7v_ESjsspbW7"
      },
      "execution_count": null,
      "outputs": []
    },
    {
      "cell_type": "markdown",
      "source": [
        "##### 1. Why did you pick the specific chart?"
      ],
      "metadata": {
        "id": "K5QZ13OEpz2H"
      }
    },
    {
      "cell_type": "markdown",
      "source": [
        "Answer Here.\n",
        "\n",
        "After analyzing the churn rate by state using the provided code, the following conclusions can be drawn:\n",
        "\n",
        "Churn Rates Vary: The bar chart clearly shows that the churn rates vary across different states. Some states have relatively high churn rates, indicating a higher percentage of customers leaving the telecom service, while others have lower churn rates.\n",
        "\n",
        "State-Level Insights: By examining the heights of the bars, we can identify the states with the highest churn rates. These states require closer attention and investigation to understand the underlying factors contributing to customer churn.\n",
        "\n",
        "Priority Areas: The sorted bar chart helps prioritize areas for intervention. States with higher churn rates can be targeted for retention strategies, customer satisfaction improvement, or targeted marketing campaigns to reduce churn and retain customers.\n",
        "\n",
        "Regional Patterns: The chart may reveal regional patterns in customer churn. States in the same geographical region might exhibit similar churn rates, indicating the presence of specific regional factors influencing customer behavior and retention.\n",
        "\n",
        "Further Analysis: The bar chart serves as a starting point for further analysis and exploration. It can be used to identify potential correlations or relationships between churn rates and other variables, such as account length, international plan usage, or customer service calls."
      ],
      "metadata": {
        "id": "XESiWehPqBRc"
      }
    },
    {
      "cell_type": "markdown",
      "source": [
        "##### 2. What is/are the insight(s) found from the chart?"
      ],
      "metadata": {
        "id": "lQ7QKXXCp7Bj"
      }
    },
    {
      "cell_type": "markdown",
      "source": [
        "Answer Here\n",
        "\n",
        "In summary, the chart provides valuable insights into the churn rates by state, enabling telecom companies to identify areas of concern, prioritize actions, and tailor strategies to reduce churn and enhance customer retention."
      ],
      "metadata": {
        "id": "C_j1G7yiqdRP"
      }
    },
    {
      "cell_type": "markdown",
      "source": [
        "##### 3. Will the gained insights help creating a positive business impact? \n",
        "Are there any insights that lead to negative growth? Justify with specific reason."
      ],
      "metadata": {
        "id": "448CDAPjqfQr"
      }
    },
    {
      "cell_type": "markdown",
      "source": [
        "Answer Here\n",
        "\n",
        "The gained insights from analyzing the churn rates by state can indeed help create a positive business impact. By understanding the variations in churn rates and identifying states with higher churn, telecom companies can develop targeted strategies to reduce churn and improve customer retention. This, in turn, can lead to increased customer satisfaction, loyalty, and ultimately, positive business growth. The insights allow companies to allocate resources effectively, focus on retention efforts, and tailor their approach based on the specific needs and challenges in different states."
      ],
      "metadata": {
        "id": "3cspy4FjqxJW"
      }
    },
    {
      "cell_type": "markdown",
      "source": [
        "#### Chart - 2"
      ],
      "metadata": {
        "id": "KSlN3yHqYklG"
      }
    },
    {
      "cell_type": "code",
      "source": [
        "# Chart - 2 visualization code\n",
        "# Select only the numerical columns\n",
        "numerical_columns = df.select_dtypes(include='number')\n",
        "\n",
        "# Set the figure size for better visualization\n",
        "plt.figure(figsize=(10, 6))\n",
        "\n",
        "# Create a boxplot for all the numerical variables\n",
        "plt.boxplot(numerical_columns.values, vert=False, labels=numerical_columns.columns)\n",
        "\n",
        "# Set the x-axis label\n",
        "plt.xlabel('Values')\n",
        "\n",
        "# Set the title\n",
        "plt.title('Boxplot of Numerical Variables')\n",
        "\n",
        "# Display the plot\n",
        "plt.show()"
      ],
      "metadata": {
        "id": "R4YgtaqtYklH"
      },
      "execution_count": null,
      "outputs": []
    },
    {
      "cell_type": "markdown",
      "source": [
        "##### 1. Why did you pick the specific chart?"
      ],
      "metadata": {
        "id": "t6dVpIINYklI"
      }
    },
    {
      "cell_type": "markdown",
      "source": [
        "Answer Here.\n",
        "This chart help in knowing outlier in the data set."
      ],
      "metadata": {
        "id": "5aaW0BYyYklI"
      }
    },
    {
      "cell_type": "markdown",
      "source": [
        "##### 2. What is/are the insight(s) found from the chart?"
      ],
      "metadata": {
        "id": "ijmpgYnKYklI"
      }
    },
    {
      "cell_type": "markdown",
      "source": [
        "Answer Here\n",
        "\n",
        "By examining the boxplots, you can identify variables with significant variations, potential outliers, or unusual distributions, which can further guide your data analysis and decision-making process.\n"
      ],
      "metadata": {
        "id": "PSx9atu2YklI"
      }
    },
    {
      "cell_type": "markdown",
      "source": [
        "##### 3. Will the gained insights help creating a positive business impact? \n",
        "Are there any insights that lead to negative growth? Justify with specific reason."
      ],
      "metadata": {
        "id": "-JiQyfWJYklI"
      }
    },
    {
      "cell_type": "markdown",
      "source": [
        "# This is formatted as code\n",
        "\n",
        "Answer Here\n",
        "\n",
        "However, it is important to note that boxplots alone may not provide a comprehensive understanding of the underlying factors driving customer churn or negative growth. They serve as a starting point for analysis and should be complemented with further investigations and analysis. Other techniques such as correlation analysis, predictive modeling, and customer feedback analysis can provide additional insights to support decision-making and drive positive business impact."
      ],
      "metadata": {
        "id": "BcBbebzrYklV"
      }
    },
    {
      "cell_type": "markdown",
      "source": [
        "#### Chart - 3"
      ],
      "metadata": {
        "id": "EM7whBJCYoAo"
      }
    },
    {
      "cell_type": "code",
      "source": [
        "# Chart - 3 visualization code\n",
        "\n",
        "# Set the figure size\n",
        "plt.figure(figsize=(10, 6))\n",
        "\n",
        "# Create a histogram for \"Account length\"\n",
        "plt.hist(df[\"Account length\"], bins=30, edgecolor='black')\n",
        "plt.xlabel(\"Account Length\")\n",
        "plt.ylabel(\"Frequency\")\n",
        "plt.title(\"Histogram of Account Length\")\n",
        "\n",
        "# Display the histogram\n",
        "plt.show()\n",
        "\n",
        "# Set the figure size\n",
        "plt.figure(figsize=(10, 6))\n",
        "\n",
        "# Create a histogram for \"Total intl charge\"\n",
        "plt.hist(df[\"Total intl charge\"], bins=30, edgecolor='black')\n",
        "plt.xlabel(\"Total Intl Charge\")\n",
        "plt.ylabel(\"Frequency\")\n",
        "plt.title(\"Histogram of Total Intl Charge\")\n",
        "\n",
        "# Display the histogram\n",
        "plt.show()"
      ],
      "metadata": {
        "id": "t6GMdE67YoAp"
      },
      "execution_count": null,
      "outputs": []
    },
    {
      "cell_type": "markdown",
      "source": [
        "##### 1. Why did you pick the specific chart?"
      ],
      "metadata": {
        "id": "fge-S5ZAYoAp"
      }
    },
    {
      "cell_type": "markdown",
      "source": [
        "Answer Here.\n",
        "\n",
        "I picked a histogram as it is a suitable chart for visualizing the distribution and frequency of numerical variables. Histograms provide a clear representation of the data's distribution by dividing it into bins or intervals and displaying the count or frequency of observations within each bin."
      ],
      "metadata": {
        "id": "5dBItgRVYoAp"
      }
    },
    {
      "cell_type": "markdown",
      "source": [
        "##### 2. What is/are the insight(s) found from the chart?"
      ],
      "metadata": {
        "id": "85gYPyotYoAp"
      }
    },
    {
      "cell_type": "markdown",
      "source": [
        "Answer Here\n",
        "\n",
        "The distribution of account lengths appears to be somewhat right-skewed, with a longer tail on the right side."
      ],
      "metadata": {
        "id": "4jstXR6OYoAp"
      }
    },
    {
      "cell_type": "markdown",
      "source": [
        "##### 3. Will the gained insights help creating a positive business impact? \n",
        "Are there any insights that lead to negative growth? Justify with specific reason."
      ],
      "metadata": {
        "id": "RoGjAbkUYoAp"
      }
    },
    {
      "cell_type": "markdown",
      "source": [
        "Answer Here\n",
        "\n",
        "Understanding the distribution of account lengths can help the telecom company in tailoring their services and offerings based on customer preferences. They can identify customer segments with specific account length preferences and design targeted marketing campaigns or service plans to cater to their needs. This customer-centric approach can enhance customer satisfaction and loyalty, leading to positive business impact."
      ],
      "metadata": {
        "id": "zfJ8IqMcYoAp"
      }
    },
    {
      "cell_type": "markdown",
      "source": [
        "#### Chart - 4"
      ],
      "metadata": {
        "id": "4Of9eVA-YrdM"
      }
    },
    {
      "cell_type": "code",
      "source": [
        "# Chart - 4 visualization code\n",
        "# Lets perform univariate Analysis\n",
        "# Select only the numeric columns\n",
        "numeric_columns = df.select_dtypes(include=np.number)\n",
        "\n",
        "# Iterate over each numeric column\n",
        "for column in numeric_columns:\n",
        "    # Set the figure size for better visualization\n",
        "    plt.figure(figsize=(8, 6))\n",
        "    \n",
        "    # Create a histogram for the numeric column\n",
        "    plt.hist(df[column], bins=10)\n",
        "    \n",
        "    # Set the x-axis label\n",
        "    plt.xlabel(column)\n",
        "    \n",
        "    # Set the y-axis label\n",
        "    plt.ylabel('Frequency')\n",
        "    \n",
        "    # Set the title\n",
        "    plt.title(f'Histogram of {column}')\n",
        "    \n",
        "    # Display the plot\n",
        "    plt.show()"
      ],
      "metadata": {
        "id": "irlUoxc8YrdO"
      },
      "execution_count": null,
      "outputs": []
    },
    {
      "cell_type": "markdown",
      "source": [
        "##### 1. Why did you pick the specific chart?"
      ],
      "metadata": {
        "id": "iky9q4vBYrdO"
      }
    },
    {
      "cell_type": "markdown",
      "source": [
        "Answer Here.\n",
        "\n",
        "The specific chart chosen for performing univariate analysis, such as histograms, is based on the nature and type of the data being analyzed. Histograms are commonly used for visualizing the distribution of numeric data."
      ],
      "metadata": {
        "id": "aJRCwT6DYrdO"
      }
    },
    {
      "cell_type": "markdown",
      "source": [
        "##### 2. What is/are the insight(s) found from the chart?"
      ],
      "metadata": {
        "id": "F6T5p64dYrdO"
      }
    },
    {
      "cell_type": "markdown",
      "source": [
        "Answer Here.\n",
        "\n",
        "Distribution Shape: The shape of the histogram can provide insights into the distribution of the data. It may exhibit characteristics such as normal (bell-shaped), skewed (positively or negatively), bimodal (having two peaks), or multimodal (having multiple peaks). These shape patterns can indicate the underlying data patterns and help understand the behavior of the variable.\n",
        "\n",
        "Central Tendency: The central tendency of the data can be observed from the histogram. It can provide insights into the mean, median, and mode of the distribution. For normally distributed data, the peak of the histogram aligns with the mean value, while skewed distributions may have the peak shifted towards one side.\n",
        "\n",
        "Outliers: Histograms can help identify outliers in the data. Outliers are data points that deviate significantly from the majority of the data. They appear as isolated bars or bins that are far away from the main distribution. Identifying outliers is important as they can impact statistical analysis and decision-making.\n",
        "\n",
        "Spread and Variability: The width and height of the histogram bins can provide insights into the spread and variability of the data. A wider distribution indicates higher variability, while a narrower distribution suggests lower variability.\n",
        "\n",
        "Data Range: The range of the data can be observed from the histogram. It shows the minimum and maximum values covered by the variable, providing insights into the data's extent.\n",
        "\n",
        "These insights help in understanding the characteristics of the numeric variables and can guide further analysis, decision-making, and modeling processes. It is important to interpret the histograms in the context of the specific dataset and domain knowledge."
      ],
      "metadata": {
        "id": "Xx8WAJvtYrdO"
      }
    },
    {
      "cell_type": "markdown",
      "source": [
        "##### 3. Will the gained insights help creating a positive business impact? \n",
        "Are there any insights that lead to negative growth? Justify with specific reason."
      ],
      "metadata": {
        "id": "y-Ehk30pYrdP"
      }
    },
    {
      "cell_type": "markdown",
      "source": [
        "Answer Here\n",
        "\n",
        "Detecting Anomalies: Histograms can help identify outliers in the data, which may indicate unusual or exceptional customer behavior. These outliers could represent potential fraud, system errors, or other abnormal activities. Detecting and addressing these anomalies promptly can minimize financial losses, maintain data integrity, and ensure a positive customer experience."
      ],
      "metadata": {
        "id": "jLNxxz7MYrdP"
      }
    },
    {
      "cell_type": "markdown",
      "source": [
        "#### Chart - 5"
      ],
      "metadata": {
        "id": "bamQiAODYuh1"
      }
    },
    {
      "cell_type": "code",
      "source": [
        "# Chart - 5 visualization code\n",
        "plt.scatter(df['Total day minutes'], df['Total day charge'])\n",
        "plt.xlabel('Total day minutes')\n",
        "plt.ylabel('Total day charge')\n",
        "plt.title('Scatter Plot: Total day minutes vs Total day charge')\n",
        "plt.show()"
      ],
      "metadata": {
        "id": "TIJwrbroYuh3"
      },
      "execution_count": null,
      "outputs": []
    },
    {
      "cell_type": "markdown",
      "source": [
        "##### 1. Why did you pick the specific chart?"
      ],
      "metadata": {
        "id": "QHF8YVU7Yuh3"
      }
    },
    {
      "cell_type": "markdown",
      "source": [
        "Answer Here.\n",
        "\n",
        "The line plot is selected to visualize the trend or pattern between two numerical variables over a continuous range."
      ],
      "metadata": {
        "id": "dcxuIMRPYuh3"
      }
    },
    {
      "cell_type": "markdown",
      "source": [
        "##### 2. What is/are the insight(s) found from the chart?"
      ],
      "metadata": {
        "id": "GwzvFGzlYuh3"
      }
    },
    {
      "cell_type": "markdown",
      "source": [
        "Answer Here\n",
        "\n",
        "What is/are the insight(s) found from the chart? The line plot helps to observe the overall trend between the variables. It can reveal whether there is a positive or negative trend, any seasonal patterns, or any abrupt changes in the relationship."
      ],
      "metadata": {
        "id": "uyqkiB8YYuh3"
      }
    },
    {
      "cell_type": "markdown",
      "source": [
        "##### 3. Will the gained insights help creating a positive business impact?"
      ],
      "metadata": {
        "id": "qYpmQ266Yuh3"
      }
    },
    {
      "cell_type": "markdown",
      "source": [
        "Answer Here.\n",
        "\n",
        "Will the gained insights help creating a positive business impact? Yes, understanding the trend or pattern between variables can assist businesses in making strategic decisions. For example, if the line plot shows an increasing trend in customer complaints over time, businesses can take proactive measures to address the underlying issues and improve customer satisfaction"
      ],
      "metadata": {
        "id": "_WtzZ_hCYuh4"
      }
    },
    {
      "cell_type": "markdown",
      "source": [
        "#### Chart - 6"
      ],
      "metadata": {
        "id": "OH-pJp9IphqM"
      }
    },
    {
      "cell_type": "code",
      "source": [
        "# Chart - 6 visualization code\n",
        "\n",
        "# Calculate the number of churned and non-churned customers\n",
        "churn_counts = df['Churn'].value_counts()\n",
        "\n",
        "# Create labels for the pie chart\n",
        "labels = ['Non-Churned', 'Churned']\n",
        "\n",
        "# Create a pie chart\n",
        "plt.pie(churn_counts, labels=labels, autopct='%1.1f%%', startangle=90)\n",
        "\n",
        "# Add a title to the chart\n",
        "plt.title('Churned vs Non-Churned Customers')\n",
        "\n",
        "# Display the chart\n",
        "plt.show()"
      ],
      "metadata": {
        "id": "kuRf4wtuphqN"
      },
      "execution_count": null,
      "outputs": []
    },
    {
      "cell_type": "markdown",
      "source": [
        "##### 1. Why did you pick the specific chart?"
      ],
      "metadata": {
        "id": "bbFf2-_FphqN"
      }
    },
    {
      "cell_type": "markdown",
      "source": [
        "Answer Here.\n",
        "\n",
        "I picked the pie chart to represent the churned vs non-churned customers because it effectively displays the proportion or distribution of two categories (churned and non-churned) as parts of a whole. The pie chart allows for easy visualization of the relative sizes of each category and provides a clear comparison between them."
      ],
      "metadata": {
        "id": "loh7H2nzphqN"
      }
    },
    {
      "cell_type": "markdown",
      "source": [
        "##### 2. What is/are the insight(s) found from the chart?"
      ],
      "metadata": {
        "id": "_ouA3fa0phqN"
      }
    },
    {
      "cell_type": "markdown",
      "source": [
        "Answer Here\n",
        "\n",
        "It help in knowing how much percentage is the churn & Non-churn customer."
      ],
      "metadata": {
        "id": "VECbqPI7phqN"
      }
    },
    {
      "cell_type": "markdown",
      "source": [
        "##### 3. Will the gained insights help creating a positive business impact? \n",
        "Are there any insights that lead to negative growth? Justify with specific reason."
      ],
      "metadata": {
        "id": "Seke61FWphqN"
      }
    },
    {
      "cell_type": "markdown",
      "source": [
        "Answer Here\n",
        "\n",
        "Understanding Churn Rate: Knowing the overall churn rate is crucial for a telecom company. It helps in assessing the health of the customer base and identifying potential areas for improvement. If the churn rate is high, it indicates a need to focus on customer retention strategies and improving customer satisfaction to reduce churn."
      ],
      "metadata": {
        "id": "DW4_bGpfphqN"
      }
    },
    {
      "cell_type": "markdown",
      "source": [
        "#### Chart - 7"
      ],
      "metadata": {
        "id": "PIIx-8_IphqN"
      }
    },
    {
      "cell_type": "code",
      "source": [
        "# Chart - 7 visualization code\n",
        "# Plot churn rates based on International plan\n",
        "plt.figure(figsize=(8, 6))\n",
        "sns.countplot(x='International plan', hue='Churn', data=df)\n",
        "plt.title('Churn Rates based on International plan')\n",
        "plt.xlabel('International plan')\n",
        "plt.ylabel('Count')\n",
        "plt.show()"
      ],
      "metadata": {
        "id": "lqAIGUfyphqO"
      },
      "execution_count": null,
      "outputs": []
    },
    {
      "cell_type": "markdown",
      "source": [
        "##### 1. Why did you pick the specific chart?"
      ],
      "metadata": {
        "id": "t27r6nlMphqO"
      }
    },
    {
      "cell_type": "markdown",
      "source": [
        "Answer Here.\n",
        "\n",
        "These visualizations can help the telecom company identify any variations in churn rates based on categorical variables and inform strategic decision-making."
      ],
      "metadata": {
        "id": "iv6ro40sphqO"
      }
    },
    {
      "cell_type": "markdown",
      "source": [
        "##### 2. What is/are the insight(s) found from the chart?"
      ],
      "metadata": {
        "id": "r2jJGEOYphqO"
      }
    },
    {
      "cell_type": "markdown",
      "source": [
        "Answer Here\n",
        "\n",
        "International plan: By comparing the churn rates for customers with and without an international plan, you can observe if there are any significant differences. "
      ],
      "metadata": {
        "id": "Po6ZPi4hphqO"
      }
    },
    {
      "cell_type": "markdown",
      "source": [
        "##### 3. Will the gained insights help creating a positive business impact? \n",
        "Are there any insights that lead to negative growth? Justify with specific reason."
      ],
      "metadata": {
        "id": "b0JNsNcRphqO"
      }
    },
    {
      "cell_type": "markdown",
      "source": [
        "*Answer* Here\n",
        "\n",
        "These visualizations can help the telecom company identify any variations in churn rates based on categorical variables and inform strategic decision-making. If there are notable differences in churn rates across different plans, the company can focus on improving those aspects of the service to retain more customers and enhance customer satisfaction."
      ],
      "metadata": {
        "id": "xvSq8iUTphqO"
      }
    },
    {
      "cell_type": "markdown",
      "source": [
        "#### Chart - 8"
      ],
      "metadata": {
        "id": "BZR9WyysphqO"
      }
    },
    {
      "cell_type": "code",
      "source": [
        "# Chart - 8 visualization code\n",
        "# Plot churn rates based on Voice mail plan\n",
        "plt.figure(figsize=(8, 6))\n",
        "sns.countplot(x='Voice mail plan', hue='Churn', data=df)\n",
        "plt.title('Churn Rates based on Voice mail plan')\n",
        "plt.xlabel('Voice mail plan')\n",
        "plt.ylabel('Count')\n",
        "plt.show()"
      ],
      "metadata": {
        "id": "TdPTWpAVphqO"
      },
      "execution_count": null,
      "outputs": []
    },
    {
      "cell_type": "markdown",
      "source": [
        "##### 1. Why did you pick the specific chart?"
      ],
      "metadata": {
        "id": "jj7wYXLtphqO"
      }
    },
    {
      "cell_type": "markdown",
      "source": [
        "Answer Here.\n",
        "\n",
        "Voice mail plan: Similarly, comparing the churn rates for customers with and without a voice mail plan can provide insights into the impact of voice mail services on customer retention. A higher churn rate among customers with a voice mail plan may suggest issues with voice mail functionality, usage patterns, or customer preferences."
      ],
      "metadata": {
        "id": "Ob8u6rCTphqO"
      }
    },
    {
      "cell_type": "markdown",
      "source": [
        "##### 2. What is/are the insight(s) found from the chart?"
      ],
      "metadata": {
        "id": "eZrbJ2SmphqO"
      }
    },
    {
      "cell_type": "markdown",
      "source": [
        "Answer Here\n",
        "\n",
        "Voice mail plan: Similarly, comparing the churn rates for customers with and without a voice mail plan can provide insights into the impact of voice mail services on customer retention. "
      ],
      "metadata": {
        "id": "mZtgC_hjphqO"
      }
    },
    {
      "cell_type": "markdown",
      "source": [
        "##### 3. Will the gained insights help creating a positive business impact? \n",
        "Are there any insights that lead to negative growth? Justify with specific reason."
      ],
      "metadata": {
        "id": "rFu4xreNphqO"
      }
    },
    {
      "cell_type": "markdown",
      "source": [
        "Answer Here\n",
        "\n",
        "These visualizations can help the telecom company identify any variations in churn rates based on categorical variables and inform strategic decision-making. If there are notable differences in churn rates across different plans, the company can focus on improving those aspects of the service to retain more customers and enhance customer satisfaction."
      ],
      "metadata": {
        "id": "ey_0qi68phqO"
      }
    },
    {
      "cell_type": "markdown",
      "source": [
        "#### Chart - 9"
      ],
      "metadata": {
        "id": "YJ55k-q6phqO"
      }
    },
    {
      "cell_type": "code",
      "source": [
        "# Chart - 9 visualization code\n",
        "# Select the relevant columns for the scatter plot matrix\n",
        "columns = ['Total day minutes', 'Total eve minutes', 'Total night minutes', 'Total intl minutes']\n",
        "\n",
        "# Create a scatter plot matrix\n",
        "sns.pairplot(df[columns])\n",
        "\n",
        "# Display the plot\n",
        "plt.show()"
      ],
      "metadata": {
        "id": "B2aS4O1ophqO"
      },
      "execution_count": null,
      "outputs": []
    },
    {
      "cell_type": "markdown",
      "source": [
        "##### 1. Why did you pick the specific chart?"
      ],
      "metadata": {
        "id": "gCFgpxoyphqP"
      }
    },
    {
      "cell_type": "markdown",
      "source": [
        "*Answer* Here.\n",
        "\n",
        "I picked the scatter plot matrix for multivariate analysis because it allows us to visualize the relationships between multiple variables simultaneously. In the scatter plot matrix, each variable is plotted against every other variable, resulting in a grid of scatter plots. This helps us to identify patterns, correlations, and trends between the variables."
      ],
      "metadata": {
        "id": "TVxDimi2phqP"
      }
    },
    {
      "cell_type": "markdown",
      "source": [
        "##### 2. What is/are the insight(s) found from the chart?"
      ],
      "metadata": {
        "id": "OVtJsKN_phqQ"
      }
    },
    {
      "cell_type": "markdown",
      "source": [
        "Answer Here\n",
        "\n",
        "By using a scatter plot matrix, we can gain insights into the relationships between different numerical variables in the dataset. It helps us understand how variables interact with each other and if there are any apparent associations or dependencies among them. This visualization is particularly useful in identifying potential patterns or clusters in the data and can assist in identifying variables that may have a significant impact on the target variable, such as customer churn in this case."
      ],
      "metadata": {
        "id": "ngGi97qjphqQ"
      }
    },
    {
      "cell_type": "markdown",
      "source": [
        "##### 3. Will the gained insights help creating a positive business impact? \n",
        "Are there any insights that lead to negative growth? Justify with specific reason."
      ],
      "metadata": {
        "id": "lssrdh5qphqQ"
      }
    },
    {
      "cell_type": "markdown",
      "source": [
        "Answer Here\n",
        "\n",
        "In summary, the gained insights from multivariate analysis can help create a positive business impact by informing strategic decisions, improving customer retention strategies, and enhancing the overall customer experience. However, it is important to carefully analyze and address any negative insights or challenges that may arise to mitigate potential negative growth.\n",
        "\n"
      ],
      "metadata": {
        "id": "tBpY5ekJphqQ"
      }
    },
    {
      "cell_type": "markdown",
      "source": [
        "#### Chart - 10"
      ],
      "metadata": {
        "id": "U2RJ9gkRphqQ"
      }
    },
    {
      "cell_type": "code",
      "source": [
        "# Chart - 10 visualization code\n",
        "\n",
        "# Calculate the average of a numerical variable by area code\n",
        "area_avg = df.groupby('Area code')['Total day minutes'].mean()\n",
        "\n",
        "# Reset index\n",
        "area_avg = area_avg.reset_index()\n",
        "\n",
        "# Create a bar chart of average value by area code\n",
        "plt.figure(figsize=(10, 6))\n",
        "plt.bar(area_avg['Area code'], area_avg['Total day minutes'])\n",
        "plt.xlabel('Area code')\n",
        "plt.ylabel('Average Total day minutes')\n",
        "plt.title('Average Total day minutes by Area code')\n",
        "plt.xticks(area_avg['Area code'])\n",
        "plt.grid(True)\n",
        "plt.show()"
      ],
      "metadata": {
        "id": "GM7a4YP4phqQ"
      },
      "execution_count": null,
      "outputs": []
    },
    {
      "cell_type": "markdown",
      "source": [
        "##### 1. Why did you pick the specific chart?"
      ],
      "metadata": {
        "id": "1M8mcRywphqQ"
      }
    },
    {
      "cell_type": "markdown",
      "source": [
        "Answer Here.\n",
        "\n",
        "In this example, we are calculating the average value of the \"Total day minutes\" variable for each area code. The bar chart represents the average total day minutes for each area code, allowing us to compare the values and identify any variations across different area codes."
      ],
      "metadata": {
        "id": "8agQvks0phqQ"
      }
    },
    {
      "cell_type": "markdown",
      "source": [
        "##### 2. What is/are the insight(s) found from the chart?"
      ],
      "metadata": {
        "id": "tgIPom80phqQ"
      }
    },
    {
      "cell_type": "markdown",
      "source": [
        "Answer Here\n",
        "\n",
        "It is important to note that these insights are based on the specific variable \"Total day minutes\" and may vary if different variables or datasets are used. Additionally, further analysis and exploration of the data may be necessary to gain more comprehensive insights."
      ],
      "metadata": {
        "id": "Qp13pnNzphqQ"
      }
    },
    {
      "cell_type": "markdown",
      "source": [
        "##### 3. Will the gained insights help creating a positive business impact? \n",
        "Are there any insights that lead to negative growth? Justify with specific reason."
      ],
      "metadata": {
        "id": "JMzcOPDDphqR"
      }
    },
    {
      "cell_type": "markdown",
      "source": [
        "Answer Here\n",
        "\n",
        "It is important to note that the actual impact on the business would depend on the effectiveness of the strategies and actions implemented based on the gained insights. Regular monitoring, analysis, and adjustment of strategies based on customer feedback and market dynamics are crucial for realizing the positive business impact."
      ],
      "metadata": {
        "id": "R4Ka1PC2phqR"
      }
    },
    {
      "cell_type": "markdown",
      "source": [
        "#### Chart - 11"
      ],
      "metadata": {
        "id": "x-EpHcCOp1ci"
      }
    },
    {
      "cell_type": "code",
      "source": [
        "# Chart - 11 visualization code\n",
        "# Group the data by State and calculate the total number of customer service calls and churn count\n",
        "state_data = df.groupby('State').agg({'Customer service calls': 'sum', 'Churn': 'sum'}).reset_index()\n",
        "\n",
        "# Sort the data by the total number of customer service calls in descending order\n",
        "state_data = state_data.sort_values('Customer service calls', ascending=False)\n",
        "\n",
        "# Set the figure size\n",
        "plt.figure(figsize=(12, 6))\n",
        "\n",
        "# Create a bar chart for the total number of customer service calls\n",
        "plt.bar(state_data['State'], state_data['Customer service calls'], label='Customer Service Calls')\n",
        "\n",
        "# Create a stacked bar chart for the churn count\n",
        "plt.bar(state_data['State'], state_data['Churn'], label='Churn', color='red')\n",
        "\n",
        "# Set the x-axis label\n",
        "plt.xlabel('State')\n",
        "\n",
        "# Set the y-axis label\n",
        "plt.ylabel('Count')\n",
        "\n",
        "# Set the title\n",
        "plt.title('Customer Service Calls and Churn by State')\n",
        "\n",
        "# Add a legend\n",
        "plt.legend()\n",
        "\n",
        "# Rotate the x-axis labels for better readability\n",
        "plt.xticks(rotation=90)\n",
        "\n",
        "# Display the plot\n",
        "plt.show()"
      ],
      "metadata": {
        "id": "mAQTIvtqp1cj"
      },
      "execution_count": null,
      "outputs": []
    },
    {
      "cell_type": "markdown",
      "source": [
        "##### 1. Why did you pick the specific chart?"
      ],
      "metadata": {
        "id": "X_VqEhTip1ck"
      }
    },
    {
      "cell_type": "markdown",
      "source": [
        "Answer Here.\n",
        "\n",
        "This visualization will show the total number of customer service calls and churn count for each state. The bars represent the customer service calls, and the red portion of the bars represents the churn count. By comparing the lengths of the bars and the red portions, you can identify the states with higher customer service calls and higher churn rates."
      ],
      "metadata": {
        "id": "-vsMzt_np1ck"
      }
    },
    {
      "cell_type": "markdown",
      "source": [
        "##### 2. What is/are the insight(s) found from the chart?"
      ],
      "metadata": {
        "id": "8zGJKyg5p1ck"
      }
    },
    {
      "cell_type": "markdown",
      "source": [
        "Answer Here\n",
        "\n",
        "Overall, there is a correlation between higher customer service calls and higher churn, emphasizing the importance of addressing customer concerns promptly to reduce churn rates."
      ],
      "metadata": {
        "id": "ZYdMsrqVp1ck"
      }
    },
    {
      "cell_type": "markdown",
      "source": [
        "##### 3. Will the gained insights help creating a positive business impact? \n",
        "Are there any insights that lead to negative growth? Justify with specific reason."
      ],
      "metadata": {
        "id": "PVzmfK_Ep1ck"
      }
    },
    {
      "cell_type": "markdown",
      "source": [
        "Answer \n",
        "\n",
        "Yes, that is correct. The correlation between higher customer service calls and higher churn suggests that customers who have more concerns or issues are more likely to churn. This highlights the importance of providing effective and efficient customer service to address customer needs and resolve any issues they may have. By addressing customer concerns promptly and effectively, businesses can improve customer satisfaction, increase customer loyalty, and ultimately reduce churn rates, leading to a positive impact on the business."
      ],
      "metadata": {
        "id": "druuKYZpp1ck"
      }
    },
    {
      "cell_type": "markdown",
      "source": [
        "#### Chart - 12"
      ],
      "metadata": {
        "id": "n3dbpmDWp1ck"
      }
    },
    {
      "cell_type": "code",
      "source": [
        "# Chart - 12 visualization code\n",
        "\n",
        "# Calculate the total charges and total minutes for each customer\n",
        "df['Total_Charges'] = df['Total day charge'] + df['Total eve charge'] + df['Total night charge'] + df['Total intl charge']\n",
        "df['Total_Minutes'] = df['Total day minutes'] + df['Total eve minutes'] + df['Total night minutes'] + df['Total intl minutes']\n",
        "\n",
        "# Group the data by churn status and calculate the average total charges\n",
        "avg_charges = df.groupby('Churn')['Total_Charges'].mean()\n",
        "\n",
        "# Group the data by churn status and calculate the average total minutes\n",
        "avg_minutes = df.groupby('Churn')['Total_Minutes'].mean()\n",
        "\n",
        "# Plotting the bar plots\n",
        "fig, axes = plt.subplots(1, 2, figsize=(10, 4))\n",
        "\n",
        "# Average Total Charges by Churn Status\n",
        "axes[0].bar(avg_charges.index, avg_charges.values)\n",
        "axes[0].set_xlabel('Churn')\n",
        "axes[0].set_ylabel('Average Total Charges')\n",
        "axes[0].set_title('Average Total Charges by Churn Status')\n",
        "\n",
        "# Average Total Minutes by Churn Status\n",
        "axes[1].bar(avg_minutes.index, avg_minutes.values)\n",
        "axes[1].set_xlabel('Churn')\n",
        "axes[1].set_ylabel('Average Total Minutes')\n",
        "axes[1].set_title('Average Total Minutes by Churn Status')\n",
        "\n",
        "plt.tight_layout()\n",
        "plt.show()"
      ],
      "metadata": {
        "id": "bwevp1tKp1ck"
      },
      "execution_count": null,
      "outputs": []
    },
    {
      "cell_type": "markdown",
      "source": [
        "##### 1. Why did you pick the specific chart?"
      ],
      "metadata": {
        "id": "ylSl6qgtp1ck"
      }
    },
    {
      "cell_type": "markdown",
      "source": [
        "Answer Here.\n",
        "\n",
        "I picked bar plots to visualize the average total charges and average total minutes based on churn status because they are effective in comparing values across different categories. Bar plots provide a clear visual representation of the average values for each category (churn or non-churn) and allow for easy comparison between the two groups."
      ],
      "metadata": {
        "id": "m2xqNkiQp1ck"
      }
    },
    {
      "cell_type": "markdown",
      "source": [
        "##### 2. What is/are the insight(s) found from the chart?"
      ],
      "metadata": {
        "id": "ZWILFDl5p1ck"
      }
    },
    {
      "cell_type": "markdown",
      "source": [
        "Answer Here\n",
        "\n",
        "These insights suggest that both total charges and total minutes can be potential factors contributing to customer churn. Further analysis and investigation are needed to understand the underlying reasons and take appropriate actions to mitigate churn and improve customer retention."
      ],
      "metadata": {
        "id": "x-lUsV2mp1ck"
      }
    },
    {
      "cell_type": "markdown",
      "source": [
        "##### 3. Will the gained insights help creating a positive business impact? \n",
        "Are there any insights that lead to negative growth? Justify with specific reason."
      ],
      "metadata": {
        "id": "M7G43BXep1ck"
      }
    },
    {
      "cell_type": "markdown",
      "source": [
        "Answer Here\n",
        "\n",
        "However, if these insights are not addressed and acted upon, there is a risk of negative growth. If the business fails to address high charges and low usage concerns, customers may continue to churn, leading to a decline in revenue and customer base. It is essential for the business to take these insights seriously and implement strategies to retain customers and foster positive growth."
      ],
      "metadata": {
        "id": "5wwDJXsLp1cl"
      }
    },
    {
      "cell_type": "markdown",
      "source": [
        "#### Chart - 13"
      ],
      "metadata": {
        "id": "Ag9LCva-p1cl"
      }
    },
    {
      "cell_type": "code",
      "source": [
        "# Chart - 13 visualization code\n",
        "# Group the data by churn status and calculate the mean of different variables\n",
        "churn_data = df.groupby('Churn').mean()\n",
        "\n",
        "# Select the relevant columns for comparison\n",
        "columns_to_compare = ['Total day minutes', 'Total eve minutes', 'Total night minutes', 'Total intl minutes', 'Customer service calls']\n",
        "\n",
        "# Create a bar plot\n",
        "plt.figure(figsize=(10, 6))\n",
        "churn_data[columns_to_compare].plot(kind='bar')\n",
        "plt.title('Comparison of Variables for Churned and Non-Churned Customers')\n",
        "plt.xlabel('Churn')\n",
        "plt.ylabel('Average Minutes')\n",
        "plt.xticks([0, 1], ['Non-Churned', 'Churned'])\n",
        "plt.legend(loc='upper right')\n",
        "plt.show()"
      ],
      "metadata": {
        "id": "EUfxeq9-p1cl"
      },
      "execution_count": null,
      "outputs": []
    },
    {
      "cell_type": "markdown",
      "source": [
        "##### 1. Why did you pick the specific chart?"
      ],
      "metadata": {
        "id": "E6MkPsBcp1cl"
      }
    },
    {
      "cell_type": "markdown",
      "source": [
        "Answer Here.\n",
        "\n",
        "This visualization will show the average minutes for different variables (such as total day minutes, total eve minutes, total night minutes, total intl minutes, and customer service calls) for churned and non-churned customers."
      ],
      "metadata": {
        "id": "V22bRsFWp1cl"
      }
    },
    {
      "cell_type": "markdown",
      "source": [
        "##### 2. What is/are the insight(s) found from the chart?"
      ],
      "metadata": {
        "id": "2cELzS2fp1cl"
      }
    },
    {
      "cell_type": "markdown",
      "source": [
        "Answer Here\n",
        "\n",
        "By comparing these variables, you can identify patterns and understand which factors might be influencing churn. This information can guide the business in implementing strategies to reduce churn, such as improving customer service, offering attractive international plans, or optimizing pricing and usage plans based on the identified factors."
      ],
      "metadata": {
        "id": "ozQPc2_Ip1cl"
      }
    },
    {
      "cell_type": "markdown",
      "source": [
        "##### 3. Will the gained insights help creating a positive business impact? \n",
        "Are there any insights that lead to negative growth? Justify with specific reason."
      ],
      "metadata": {
        "id": "3MPXvC8up1cl"
      }
    },
    {
      "cell_type": "markdown",
      "source": [
        "Answer Here\n",
        "\n",
        "However, if the company does not take appropriate actions based on the insights, it can lead to negative growth. Ignoring the factors contributing to customer churn can result in higher churn rates, reduced customer base, and ultimately, negative business growth. It is crucial for the company to leverage the insights gained from the analysis and implement strategies to retain customers and improve overall business performance."
      ],
      "metadata": {
        "id": "GL8l1tdLp1cl"
      }
    },
    {
      "cell_type": "markdown",
      "source": [
        "#### Chart - 14 - Correlation Heatmap"
      ],
      "metadata": {
        "id": "NC_X3p0fY2L0"
      }
    },
    {
      "cell_type": "code",
      "source": [
        "# Correlation Heatmap visualization code\n",
        "\n",
        "# Compute the correlation matrix\n",
        "corr = df.corr()\n",
        "\n",
        "# Set up the figure and axes\n",
        "plt.figure(figsize=(10, 8))\n",
        "ax = plt.axes()\n",
        "\n",
        "# Create the heatmap\n",
        "sns.heatmap(corr, annot=True, cmap=\"coolwarm\", fmt=\".2f\", linewidths=0.5, ax=ax)\n",
        "\n",
        "# Set the title\n",
        "plt.title('Correlation Heatmap')\n",
        "\n",
        "# Display the plot\n",
        "plt.show()"
      ],
      "metadata": {
        "id": "xyC9zolEZNRQ"
      },
      "execution_count": null,
      "outputs": []
    },
    {
      "cell_type": "markdown",
      "source": [
        "##### 1. Why did you pick the specific chart?"
      ],
      "metadata": {
        "id": "UV0SzAkaZNRQ"
      }
    },
    {
      "cell_type": "markdown",
      "source": [
        "Answer Here.\n",
        "\n",
        "I picked the correlation heatmap as it is a commonly used visualization technique to analyze the correlation between variables. It allows us to understand the strength and direction of the relationships between pairs of variables in the dataset."
      ],
      "metadata": {
        "id": "DVPuT8LYZNRQ"
      }
    },
    {
      "cell_type": "markdown",
      "source": [
        "##### 2. What is/are the insight(s) found from the chart?"
      ],
      "metadata": {
        "id": "YPEH6qLeZNRQ"
      }
    },
    {
      "cell_type": "markdown",
      "source": [
        "Answer Here\n",
        "\n",
        "These insights provide a better understanding of the relationships between variables and can be used to inform decision-making, such as identifying potential areas of improvement or focusing on customer service strategies to reduce churn."
      ],
      "metadata": {
        "id": "bfSqtnDqZNRR"
      }
    },
    {
      "cell_type": "markdown",
      "source": [
        "#### Chart - 15 - Pair Plot "
      ],
      "metadata": {
        "id": "q29F0dvdveiT"
      }
    },
    {
      "cell_type": "code",
      "source": [
        "# Pair Plot visualization code\n",
        "\n",
        "# Select the numerical columns for pair plot\n",
        "numerical_columns = df.select_dtypes(include='number')\n",
        "\n",
        "# Create pair plot\n",
        "sns.pairplot(numerical_columns)"
      ],
      "metadata": {
        "id": "o58-TEIhveiU"
      },
      "execution_count": null,
      "outputs": []
    },
    {
      "cell_type": "markdown",
      "source": [
        "##### 1. Why did you pick the specific chart?"
      ],
      "metadata": {
        "id": "EXh0U9oCveiU"
      }
    },
    {
      "cell_type": "markdown",
      "source": [
        "Answer Here.\n",
        "\n",
        "The pair plot chart is selected for visualization as it provides a comprehensive view of the relationships between pairs of variables in the dataset. It allows us to visually analyze the pairwise correlations, distributions, and potential patterns or trends in the data."
      ],
      "metadata": {
        "id": "eMmPjTByveiU"
      }
    },
    {
      "cell_type": "markdown",
      "source": [
        "##### 2. What is/are the insight(s) found from the chart?"
      ],
      "metadata": {
        "id": "22aHeOlLveiV"
      }
    },
    {
      "cell_type": "markdown",
      "source": [
        "Answer Here\n",
        "\n",
        "It's important to note that the specific insights will depend on the dataset and variables being analyzed. Interpretation should be done in the context of the specific problem or domain."
      ],
      "metadata": {
        "id": "uPQ8RGwHveiV"
      }
    },
    {
      "cell_type": "markdown",
      "source": [
        "## **5. Solution to Business Objective**"
      ],
      "metadata": {
        "id": "JcMwzZxoAimU"
      }
    },
    {
      "cell_type": "markdown",
      "source": [
        "#### What do you suggest the client to achieve Business Objective ? \n",
        "Explain Briefly."
      ],
      "metadata": {
        "id": "8G2x9gOozGDZ"
      }
    },
    {
      "cell_type": "markdown",
      "source": [
        "Answer Here.\n",
        "\n",
        "\n",
        "Based on the analysis and insights gained from the data, I would suggest the following recommendations to the client to achieve their business objectives:\n",
        "\n",
        "Improve Customer Service: The analysis showed a correlation between higher customer service calls and higher churn. It is important to focus on enhancing the customer service experience, addressing customer concerns promptly, and ensuring customer satisfaction to reduce churn rates.\n",
        "\n",
        "Offer Competitive Pricing: The analysis revealed that higher charges can be a contributing factor to customer churn. It is advisable to review pricing strategies and consider offering competitive pricing plans or discounts to retain customers and attract new ones.\n",
        "\n",
        "Enhance International Plan Features: The analysis indicated that customers with international plans have a higher churn rate. The client can evaluate the features and offerings of their international plans and consider enhancing them to provide more value to customers.\n",
        "\n",
        "Evaluate Voice Mail Plan Usage: The analysis showed that customers with a voice mail plan have a slightly higher churn rate. It would be beneficial to assess the usage patterns and benefits of the voice mail plan and make adjustments or improvements as necessary.\n",
        "\n",
        "Monitor and Address Regional Differences: The analysis highlighted regional variations in churn rates. It is important to closely monitor customer behavior and preferences in different geographical regions and tailor marketing strategies and retention efforts accordingly.\n",
        "\n",
        "By implementing these recommendations, the client can aim to improve customer retention, reduce churn rates, and ultimately achieve their business objective of increasing customer loyalty and profitability."
      ],
      "metadata": {
        "id": "pASKb0qOza21"
      }
    },
    {
      "cell_type": "markdown",
      "source": [
        "# **Conclusion**"
      ],
      "metadata": {
        "id": "gCX9965dhzqZ"
      }
    },
    {
      "cell_type": "markdown",
      "source": [
        "Write the conclusion here.\n",
        "\n",
        "\n",
        "In conclusion, the analysis of the telecom company's customer churn data provided valuable insights and recommendations to address the business objective of reducing churn and improving customer retention. Some key conclusions from the analysis are:\n",
        "\n",
        "The overall churn rate in the company is X%, indicating a significant number of customers are leaving the company.\n",
        "\n",
        "Certain factors such as international plan usage, customer service calls, and total charges have shown correlations with churn, suggesting their influence on customer retention.\n",
        "\n",
        "Customers with international plans and those making higher customer service calls have higher churn rates, indicating the need to focus on improving service quality and value for these customer segments.\n",
        "\n",
        "Pricing plays a role in customer churn, as higher charges are associated with increased likelihood of churn. Evaluating pricing strategies and offering competitive plans could help retain customers.\n",
        "\n",
        "Geographical differences in churn rates suggest the need for targeted marketing and retention efforts tailored to specific regions.\n",
        "\n",
        "Overall, the gained insights provide actionable steps to reduce churn and improve business performance. By addressing customer concerns, enhancing service quality, offering competitive pricing, and catering to regional preferences, the telecom company can work towards increasing customer loyalty and achieving positive business impact. Regular monitoring of customer behavior and continuous improvement efforts will be essential to ensure long-term success in reducing churn and improving customer satisfaction."
      ],
      "metadata": {
        "id": "Fjb1IsQkh3yE"
      }
    },
    {
      "cell_type": "markdown",
      "source": [
        "### ***Hurrah! You have successfully completed your EDA Capstone Project !!!***"
      ],
      "metadata": {
        "id": "gIfDvo9L0UH2"
      }
    }
  ]
}